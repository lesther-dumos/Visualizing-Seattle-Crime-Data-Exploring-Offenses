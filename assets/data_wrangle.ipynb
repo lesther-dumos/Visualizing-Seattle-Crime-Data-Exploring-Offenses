{
 "cells": [
  {
   "cell_type": "markdown",
   "metadata": {},
   "source": [
    "# Data Source\n",
    "\n",
    "Data can be found in [Seattle Open Data](https://data.seattle.gov/Public-Safety/SPD-Crime-Data-2008-Present/tazs-3rd5/about_data). Data includes crime data from 2008 - present. The data is over 200 MB, too large to be included in the Github repository. Down below in the code section, \"SPD_Crime_Data__2008-Present_20240212.csv\" represents the data collected from Seattle Open Data."
   ]
  },
  {
   "cell_type": "code",
   "execution_count": 1,
   "metadata": {},
   "outputs": [],
   "source": [
    "# Libraries\n",
    "import pandas as pd"
   ]
  },
  {
   "cell_type": "code",
   "execution_count": 2,
   "metadata": {},
   "outputs": [
    {
     "data": {
      "text/plain": [
       "Index(['Report Number', 'Offense ID', 'Offense Start DateTime',\n",
       "       'Offense End DateTime', 'Report DateTime', 'Group A B',\n",
       "       'Crime Against Category', 'Offense Parent Group', 'Offense',\n",
       "       'Offense Code', 'Precinct', 'Sector', 'Beat', 'MCPP',\n",
       "       '100 Block Address', 'Longitude', 'Latitude'],\n",
       "      dtype='object')"
      ]
     },
     "execution_count": 2,
     "metadata": {},
     "output_type": "execute_result"
    }
   ],
   "source": [
    "# Inspecting Data\n",
    "crime_df = pd.read_csv('SPD_Crime_Data__2008-Present_20240212.csv')\n",
    "crime_df.columns"
   ]
  },
  {
   "cell_type": "code",
   "execution_count": 3,
   "metadata": {},
   "outputs": [],
   "source": [
    "# Regex formuals\n",
    "regx_time = r'\\d\\d:\\d\\d:\\d\\d (AM|PM)'\n",
    "regx_year = r'([0-9]{4})'\n",
    "\n",
    "# Extract the year from Report DateTime into a new column\n",
    "crime_df['Date'] = crime_df['Report DateTime'].str.replace(regx_time, '', regex=True)\n",
    "crime_df[\"Year\"] = crime_df[\"Date\"].str.extract(regx_year).astype(int)\n",
    "\n",
    "# Filters Data to show crime data from 2022 and up\n",
    "crime_df = crime_df[crime_df['Year'] >= 2022]\n"
   ]
  },
  {
   "cell_type": "code",
   "execution_count": 4,
   "metadata": {},
   "outputs": [],
   "source": [
    "# Download new dataframe\n",
    "crime_df.to_csv('crime_data_2022_up.csv', index=False)"
   ]
  }
 ],
 "metadata": {
  "kernelspec": {
   "display_name": "base",
   "language": "python",
   "name": "python3"
  },
  "language_info": {
   "codemirror_mode": {
    "name": "ipython",
    "version": 3
   },
   "file_extension": ".py",
   "mimetype": "text/x-python",
   "name": "python",
   "nbconvert_exporter": "python",
   "pygments_lexer": "ipython3",
   "version": "3.11.5"
  }
 },
 "nbformat": 4,
 "nbformat_minor": 2
}
